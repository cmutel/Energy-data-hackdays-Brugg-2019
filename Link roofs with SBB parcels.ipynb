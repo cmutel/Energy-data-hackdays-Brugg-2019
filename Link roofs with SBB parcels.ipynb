{
 "cells": [
  {
   "cell_type": "code",
   "execution_count": null,
   "metadata": {},
   "outputs": [],
   "source": [
    "import fiona\n",
    "from shapely.geometry import shape\n",
    "import rtree\n",
    "import pyprind"
   ]
  },
  {
   "cell_type": "code",
   "execution_count": null,
   "metadata": {},
   "outputs": [],
   "source": [
    "sonnendach = \"solar_new_properties_added.geojson\"\n",
    "parcels = \"parcels.gpkg\""
   ]
  },
  {
   "cell_type": "code",
   "execution_count": null,
   "metadata": {},
   "outputs": [],
   "source": [
    "rtree_index = rtree.Rtree()\n",
    "\n",
    "with fiona.open(parcels, 'r') as source:\n",
    "    for index, feature in enumerate(source):\n",
    "        feature['geometry'] = shape(feature['geometry'])\n",
    "        rtree_index.add(index, feature['geometry'].bounds, obj=feature)"
   ]
  },
  {
   "cell_type": "code",
   "execution_count": null,
   "metadata": {},
   "outputs": [],
   "source": [
    "with fiona.open(sonnendach, 'r') as source:\n",
    "    sink_schema = source.schema\n",
    "    sink_schema['properties']['parcel_id'] = 'int'\n",
    "\n",
    "    with fiona.open(\n",
    "            'sd_linked_parcels.gpkg', 'w',\n",
    "            crs=source.crs,\n",
    "            driver=\"GPKG\",\n",
    "            schema=sink_schema,\n",
    "            ) as sink:\n",
    "\n",
    "        for i, feature in enumerate(source):\n",
    "            if not i % 100000:\n",
    "                print(i)\n",
    "            geom = shape(feature['geometry'])\n",
    "            for o in rtree_index.intersection(geom.bounds, objects=True):\n",
    "                parcel = o.object\n",
    "                if geom.intersects(parcel['geometry']):\n",
    "                    feature['properties']['parcel_id'] = int(parcel['properties']['ID1'])\n",
    "                    # Just use first one, good enough\n",
    "                    sink.write(feature)\n",
    "                    break"
   ]
  },
  {
   "cell_type": "code",
   "execution_count": null,
   "metadata": {},
   "outputs": [],
   "source": []
  }
 ],
 "metadata": {
  "kernelspec": {
   "display_name": "Python 3",
   "language": "python",
   "name": "python3"
  },
  "language_info": {
   "codemirror_mode": {
    "name": "ipython",
    "version": 3
   },
   "file_extension": ".py",
   "mimetype": "text/x-python",
   "name": "python",
   "nbconvert_exporter": "python",
   "pygments_lexer": "ipython3",
   "version": "3.6.7"
  }
 },
 "nbformat": 4,
 "nbformat_minor": 2
}
